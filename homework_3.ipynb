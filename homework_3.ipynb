{
 "cells": [
  {
   "cell_type": "code",
   "execution_count": 1,
   "id": "7cdc120f-1dc0-454a-8600-4143419f596b",
   "metadata": {},
   "outputs": [],
   "source": [
    "import pandas as pd\n",
    "import numpy as np\n",
    "import matplotlib.pyplot as plt"
   ]
  },
  {
   "cell_type": "code",
   "execution_count": 2,
   "id": "590d4f5c-2870-416d-8bb4-df2d8a5f354e",
   "metadata": {},
   "outputs": [
    {
     "data": {
      "text/plain": [
       "lead_source                 128\n",
       "industry                    134\n",
       "number_of_courses_viewed      0\n",
       "annual_income               181\n",
       "employment_status           100\n",
       "location                     63\n",
       "interaction_count             0\n",
       "lead_score                    0\n",
       "converted                     0\n",
       "dtype: int64"
      ]
     },
     "execution_count": 2,
     "metadata": {},
     "output_type": "execute_result"
    }
   ],
   "source": [
    "df = pd.read_csv(\"https://raw.githubusercontent.com/alexeygrigorev/datasets/master/course_lead_scoring.csv\")\n",
    "df.isnull().sum()"
   ]
  },
  {
   "cell_type": "code",
   "execution_count": 3,
   "id": "57ecfb12-71cc-4c83-a516-e03943a6da94",
   "metadata": {},
   "outputs": [],
   "source": [
    "for col in df.columns:\n",
    "    if df[col].dtype == 'object':   # categorical\n",
    "        df[col] = df[col].fillna('NA')\n",
    "    else:                           # numerical\n",
    "        df[col] = df[col].fillna(0.0)\n"
   ]
  },
  {
   "cell_type": "code",
   "execution_count": 4,
   "id": "7cd4a08d-8542-49b6-8996-2c9516828f61",
   "metadata": {},
   "outputs": [
    {
     "data": {
      "text/plain": [
       "'retail'"
      ]
     },
     "execution_count": 4,
     "metadata": {},
     "output_type": "execute_result"
    }
   ],
   "source": [
    "df['industry'].mode()[0]\n"
   ]
  },
  {
   "cell_type": "code",
   "execution_count": 5,
   "id": "a3209188-d905-4706-9569-cd4ca6a8f9ea",
   "metadata": {},
   "outputs": [],
   "source": [
    "target = \"converted\"\n",
    "assert target in df.columns, f\"Expected target column named '{target}'\""
   ]
  },
  {
   "cell_type": "code",
   "execution_count": 6,
   "id": "e03d807c-e866-48ae-b985-96c5bf2ee6ec",
   "metadata": {},
   "outputs": [],
   "source": [
    "from sklearn.model_selection import train_test_split\n",
    "from sklearn.preprocessing import OneHotEncoder, StandardScaler\n",
    "from sklearn.compose import ColumnTransformer\n",
    "from sklearn.linear_model import LogisticRegression\n",
    "from sklearn.metrics import accuracy_score\n",
    "from sklearn.feature_selection import mutual_info_classif\n",
    "from sklearn.metrics import mutual_info_score"
   ]
  },
  {
   "cell_type": "code",
   "execution_count": 7,
   "id": "997610c7-f1de-4818-95b0-aba10a58a98a",
   "metadata": {},
   "outputs": [
    {
     "name": "stdout",
     "output_type": "stream",
     "text": [
      "=== Correlation matrix (numerical features) ===\n",
      "                          number_of_courses_viewed  annual_income  \\\n",
      "number_of_courses_viewed                  1.000000       0.009770   \n",
      "annual_income                             0.009770       1.000000   \n",
      "interaction_count                        -0.023565       0.027036   \n",
      "lead_score                               -0.004879       0.015610   \n",
      "\n",
      "                          interaction_count  lead_score  \n",
      "number_of_courses_viewed          -0.023565   -0.004879  \n",
      "annual_income                      0.027036    0.015610  \n",
      "interaction_count                  1.000000    0.009888  \n",
      "lead_score                         0.009888    1.000000  \n",
      "\n"
     ]
    }
   ],
   "source": [
    "num_cols = df.select_dtypes(exclude=[\"object\", \"category\"]).columns.tolist()\n",
    "if target in num_cols:\n",
    "    num_cols.remove(target)\n",
    "\n",
    "corr = df[num_cols].corr()\n",
    "\n",
    "print(\"=== Correlation matrix (numerical features) ===\")\n",
    "print(corr)\n",
    "print()\n",
    "\n"
   ]
  },
  {
   "cell_type": "code",
   "execution_count": 8,
   "id": "d42e2219-a38e-443c-bac8-89fd25360ec8",
   "metadata": {},
   "outputs": [
    {
     "name": "stdout",
     "output_type": "stream",
     "text": [
      "Correlations for the candidate pairs:\n",
      "('interaction_count', 'lead_score') : 0.009888182496913131\n",
      "('number_of_courses_viewed', 'lead_score') : -0.004878998354681276\n",
      "('number_of_courses_viewed', 'interaction_count') : -0.023565222882888037\n",
      "('annual_income', 'interaction_count') : 0.02703647240481443\n",
      "\n",
      "Q2 answer (which pair has biggest correlation among provided options): ('annual_income', 'interaction_count')\n",
      "\n"
     ]
    }
   ],
   "source": [
    "# Only consider the candidate pairs listed in the question:\n",
    "pairs = [\n",
    "    (\"interaction_count\", \"lead_score\"),\n",
    "    (\"number_of_courses_viewed\", \"lead_score\"),\n",
    "    (\"number_of_courses_viewed\", \"interaction_count\"),\n",
    "    (\"annual_income\", \"interaction_count\"),\n",
    "]\n",
    "pair_corrs = {pair: corr.loc[pair[0], pair[1]] for pair in pairs}\n",
    "print(\"Correlations for the candidate pairs:\")\n",
    "for pair, val in pair_corrs.items():\n",
    "    print(pair, \":\", val)\n",
    "best_pair = max(pair_corrs.items(), key=lambda kv: abs(kv[1]))[0]\n",
    "print(\"\\nQ2 answer (which pair has biggest correlation among provided options):\", best_pair)\n",
    "print()\n"
   ]
  },
  {
   "cell_type": "code",
   "execution_count": 9,
   "id": "2610313f-1017-4e11-9169-735fa1c06fad",
   "metadata": {},
   "outputs": [],
   "source": [
    "train_val_test_seed = 42\n",
    "df_train, df_temp = train_test_split(df, test_size=0.4, random_state=train_val_test_seed, stratify=None)\n",
    "df_val, df_test = train_test_split(df_temp, test_size=0.5, random_state=train_val_test_seed, stratify=None)\n",
    "\n",
    "X_train = df_train.drop(columns=[target])\n",
    "y_train = df_train[target].values\n",
    "\n",
    "X_val = df_val.drop(columns=[target])\n",
    "y_val = df_val[target].values\n",
    "\n",
    "X_test = df_test.drop(columns=[target])\n",
    "y_test = df_test[target].values"
   ]
  },
  {
   "cell_type": "code",
   "execution_count": 10,
   "id": "ad7095e0-87c2-4c41-b36d-f0ab0b17a331",
   "metadata": {},
   "outputs": [
    {
     "name": "stdout",
     "output_type": "stream",
     "text": [
      "=== Q3: Mutual information (training set) — categorical features ===\n",
      "lead_source 0.03\n",
      "industry 0.02\n",
      "employment_status 0.02\n",
      "location 0.0\n",
      "\n",
      "Q3 answer (biggest mutual information): lead_source\n",
      "\n"
     ]
    }
   ],
   "source": [
    "cat_cols = X_train.select_dtypes(include=[\"object\", \"category\"]).columns.tolist()\n",
    "\n",
    "mi_scores = {}\n",
    "for col in cat_cols:\n",
    "    mi = mutual_info_score(y_train, X_train[col])\n",
    "    mi_scores[col] = round(mi, 2)\n",
    "\n",
    "print(\"=== Q3: Mutual information (training set) — categorical features ===\")\n",
    "for col, score in mi_scores.items():\n",
    "    print(col, score)\n",
    "\n",
    "best_mi_col = max(mi_scores.items(), key=lambda kv: kv[1])[0]\n",
    "print(\"\\nQ3 answer (biggest mutual information):\", best_mi_col)\n",
    "print()\n"
   ]
  },
  {
   "cell_type": "code",
   "execution_count": 11,
   "id": "cefe4c41-fb8b-499c-b5ae-a35e33c7f229",
   "metadata": {},
   "outputs": [
    {
     "name": "stdout",
     "output_type": "stream",
     "text": [
      "=== Q4: Logistic Regression validation accuracy ===\n",
      "Validation accuracy (unrounded): 0.8561643835616438\n",
      "Validation accuracy (rounded 2 decimals): 0.86\n",
      "\n"
     ]
    }
   ],
   "source": [
    "def build_preprocessor(X):\n",
    "    # separate numeric and categorical features\n",
    "    numeric_features = X.select_dtypes(exclude=[\"object\", \"category\"]).columns.tolist()\n",
    "    categorical_features = X.select_dtypes(include=[\"object\", \"category\"]).columns.tolist()\n",
    "    # numeric scaler\n",
    "    numeric_transformer = StandardScaler()\n",
    "    # one-hot encoder for categorical\n",
    "    cat_transformer = OneHotEncoder(handle_unknown=\"ignore\", sparse_output=False)\n",
    "    preprocessor = ColumnTransformer(\n",
    "        transformers=[\n",
    "            (\"num\", numeric_transformer, numeric_features),\n",
    "            (\"cat\", cat_transformer, categorical_features)\n",
    "        ],\n",
    "        remainder=\"drop\"\n",
    "    )\n",
    "    return preprocessor, numeric_features + categorical_features\n",
    "\n",
    "preprocessor, used_features = build_preprocessor(X_train)\n",
    "\n",
    "model = LogisticRegression(solver='liblinear', C=1.0, max_iter=1000, random_state=42)\n",
    "\n",
    "X_train_trans = preprocessor.fit_transform(X_train)\n",
    "X_val_trans = preprocessor.transform(X_val)\n",
    "\n",
    "model.fit(X_train_trans, y_train)\n",
    "y_val_pred = model.predict(X_val_trans)\n",
    "acc_val = accuracy_score(y_val, y_val_pred)\n",
    "print(\"=== Q4: Logistic Regression validation accuracy ===\")\n",
    "print(\"Validation accuracy (unrounded):\", acc_val)\n",
    "print(\"Validation accuracy (rounded 2 decimals):\", round(acc_val, 2))\n",
    "print()"
   ]
  },
  {
   "cell_type": "code",
   "execution_count": 12,
   "id": "7abd348d-a94a-4c24-b25f-449ddc1d12ce",
   "metadata": {},
   "outputs": [
    {
     "name": "stdout",
     "output_type": "stream",
     "text": [
      "Dropping industry: val accuracy = 0.856164, diff = 0.000000\n",
      "Dropping employment_status: val accuracy = 0.842466, diff = 0.013699\n",
      "Dropping lead_score: val accuracy = 0.849315, diff = 0.006849\n",
      "\n",
      "=== Q5 answer (feature with smallest difference) ===\n",
      "Smallest difference feature: industry\n",
      "\n"
     ]
    }
   ],
   "source": [
    "baseline_acc = acc_val  # original accuracy with all features\n",
    "features_to_test = ['industry', 'employment_status', 'lead_score']\n",
    "diffs = {}\n",
    "\n",
    "for feat in features_to_test:\n",
    "    # create training & validation sets without this feature\n",
    "    Xtr = X_train.drop(columns=[feat])\n",
    "    Xv = X_val.drop(columns=[feat])\n",
    "\n",
    "    preproc_tmp, _ = build_preprocessor(Xtr)\n",
    "    Xtr_t = preproc_tmp.fit_transform(Xtr)\n",
    "    Xv_t = preproc_tmp.transform(Xv)\n",
    "\n",
    "    model_tmp = LogisticRegression(solver='liblinear', C=1.0, max_iter=1000, random_state=42)\n",
    "    model_tmp.fit(Xtr_t, y_train)\n",
    "    yv_pred = model_tmp.predict(Xv_t)\n",
    "    acc_no_feat = accuracy_score(y_val, yv_pred)\n",
    "    dif = baseline_acc - acc_no_feat\n",
    "    diffs[feat] = dif\n",
    "    print(f\"Dropping {feat}: val accuracy = {acc_no_feat:.6f}, diff = {dif:.6f}\")\n",
    "\n",
    "smallest_diff_feature = min(diffs.items(), key=lambda kv: kv[1])[0]\n",
    "print(\"\\n=== Q5 answer (feature with smallest difference) ===\")\n",
    "print(\"Smallest difference feature:\", smallest_diff_feature)\n",
    "print()\n",
    "\n"
   ]
  },
  {
   "cell_type": "code",
   "execution_count": 13,
   "id": "8b9a4411-d482-40f2-9cba-0d006f252794",
   "metadata": {},
   "outputs": [
    {
     "name": "stdout",
     "output_type": "stream",
     "text": [
      "=== Q6: Validation accuracies by C (rounded to 3 decimals) ===\n",
      "C = 0.01 -> 0.849\n",
      "C = 0.1 -> 0.856\n",
      "C = 1 -> 0.856\n",
      "C = 10 -> 0.856\n",
      "C = 100 -> 0.856\n",
      "\n",
      "Q6 answer (best C): 0.1 with accuracy 0.856\n"
     ]
    }
   ],
   "source": [
    "C_values = [0.01, 0.1, 1, 10, 100]\n",
    "accs_by_C = {}\n",
    "for C in C_values:\n",
    "    model_C = LogisticRegression(solver='liblinear', C=C, max_iter=1000, random_state=42)\n",
    "    model_C.fit(X_train_trans, y_train)  # use the same preprocessed X_train_trans\n",
    "    yv_pred_C = model_C.predict(X_val_trans)\n",
    "    accs_by_C[C] = round(accuracy_score(y_val, yv_pred_C), 3)\n",
    "\n",
    "print(\"=== Q6: Validation accuracies by C (rounded to 3 decimals) ===\")\n",
    "for C, a in accs_by_C.items():\n",
    "    print(\"C =\", C, \"->\", a)\n",
    "\n",
    "max_acc = max(accs_by_C.values())\n",
    "best_C_candidates = [C for C, a in accs_by_C.items() if a == max_acc]\n",
    "best_C = min(best_C_candidates)\n",
    "print(\"\\nQ6 answer (best C):\", best_C, \"with accuracy\", accs_by_C[best_C])"
   ]
  },
  {
   "cell_type": "code",
   "execution_count": null,
   "id": "8af8d721-295c-45be-bb05-9e42f75c61f2",
   "metadata": {},
   "outputs": [],
   "source": []
  }
 ],
 "metadata": {
  "kernelspec": {
   "display_name": "Python 3 (ipykernel)",
   "language": "python",
   "name": "python3"
  },
  "language_info": {
   "codemirror_mode": {
    "name": "ipython",
    "version": 3
   },
   "file_extension": ".py",
   "mimetype": "text/x-python",
   "name": "python",
   "nbconvert_exporter": "python",
   "pygments_lexer": "ipython3",
   "version": "3.12.1"
  }
 },
 "nbformat": 4,
 "nbformat_minor": 5
}
